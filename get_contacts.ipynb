{
 "metadata": {
  "language_info": {
   "codemirror_mode": {
    "name": "ipython",
    "version": 3
   },
   "file_extension": ".py",
   "mimetype": "text/x-python",
   "name": "python",
   "nbconvert_exporter": "python",
   "pygments_lexer": "ipython3",
   "version": "3.8.6-final"
  },
  "orig_nbformat": 2,
  "kernelspec": {
   "name": "python3",
   "display_name": "Python 3.8.6 64-bit",
   "metadata": {
    "interpreter": {
     "hash": "1baa965d5efe3ac65b79dfc60c0d706280b1da80fedb7760faf2759126c4f253"
    }
   }
  }
 },
 "nbformat": 4,
 "nbformat_minor": 2,
 "cells": [
  {
   "cell_type": "code",
   "execution_count": 2,
   "metadata": {},
   "outputs": [
    {
     "output_type": "stream",
     "name": "stderr",
     "text": [
      "100%|██████████| 2019/2019 [00:01<00:00, 1420.83it/s]\n",
      "100%|██████████| 2019/2019 [00:01<00:00, 1192.61it/s]\n"
     ]
    }
   ],
   "source": [
    "import pandas as pd\n",
    "\n",
    "from lxutils import config\n",
    "from fast_bitrix24 import BitrixAsync\n",
    "from itertools import chain\n",
    "\n",
    "from constants import Stage, Field\n",
    "\n",
    "b = BitrixAsync(config['tokens']['webhook'])\n",
    "\n",
    "deals = pd.DataFrame(await b.get_all('crm.deal.list', params={\n",
    "    'select': ['ID', Field.REASON, 'STAGE_ID'],\n",
    "    'filter': {'STAGE_ID': [Stage.LOST, Stage.POSTPONED]}  # TODO: добавить отложенные\n",
    "    }))\n",
    "\n",
    "timeline = await b.call(\n",
    "    'crm.timeline.comment.list',\n",
    "    [{\n",
    "        'FILTER': {\n",
    "            'ENTITY_TYPE': 'deal',\n",
    "            'ENTITY_ID': deal,\n",
    "        },\n",
    "    } for deal in deals['ID']])"
   ]
  },
  {
   "cell_type": "code",
   "execution_count": 2,
   "metadata": {},
   "outputs": [
    {
     "output_type": "stream",
     "name": "stderr",
     "text": [
      "100%|██████████| 926/926 [00:00<00:00, 977.54it/s]\n",
      " 99%|█████████▉| 952/957 [00:03<00:00, 291.92it/s]\n"
     ]
    }
   ],
   "source": [
    "deals['num_comments'] = [len(deal_timeline) for deal_timeline in timeline]\n",
    "deals['latest_comment'] = [\n",
    "    max(deal_timeline, key=lambda x: x['CREATED'])['CREATED']\n",
    "    if deal_timeline else None\n",
    "    for deal_timeline in timeline]\n",
    "\n",
    "# отобрать тех, у кого статус - проиграна, было более-менее плотное общение,\n",
    "# и прошло уже 2 мес.\n",
    "\n",
    "deals = deals.query('num_comments >= 3 and latest_comment <= \"2020-12-01\"')\n",
    "\n",
    "contact_refs = await b.get_by_ID('crm.deal.contact.items.get', deals['ID'])\n",
    "\n",
    "contact_refs_chained = chain(*contact_refs.values())\n",
    "IDs = [contact_ref['CONTACT_ID'] for contact_ref in contact_refs_chained]\n",
    "\n",
    "contacts = await b.get_by_ID('crm.contact.get', IDs)\n",
    "\n",
    "contacts_stripped = [{'name': cont['NAME'], 'phone': cont['PHONE']}\n",
    "                     for cont in contacts.values() if 'PHONE' in cont]"
   ]
  },
  {
   "cell_type": "code",
   "execution_count": 3,
   "metadata": {},
   "outputs": [],
   "source": [
    "phones_unpacked = chain(*[\n",
    "    [{'name': cont['name'], 'phone': phone['VALUE']}\n",
    "     for phone in cont['phone']]\n",
    "    for cont in contacts_stripped])\n",
    "\n",
    "phones = pd.DataFrame(phones_unpacked)"
   ]
  },
  {
   "cell_type": "code",
   "execution_count": 6,
   "metadata": {},
   "outputs": [
    {
     "output_type": "execute_result",
     "data": {
      "text/plain": [
       "869"
      ]
     },
     "metadata": {},
     "execution_count": 6
    }
   ],
   "source": [
    "# удаляем все символы, кроме цифр\n",
    "\n",
    "phones['phone'] = [\n",
    "    ''.join(char for char in phone if char in '0123456789')\n",
    "    for phone in phones['phone']\n",
    "]\n",
    "\n",
    "# удаляем дефектных\n",
    "phones['phone_len'] = [len(ph) for ph in phones['phone']]\n",
    "phones = phones.query('phone_len == 11').drop(columns=['phone_len'])\n",
    "\n",
    "# начальный знак - семерка\n",
    "phones['phone'] = ['7' + ph[1:] if ph[0] == '8' else ph\n",
    "                   for ph in phones['phone']]\n",
    "\n",
    "# удаляем дубли\n",
    "\n",
    "phones = phones.drop_duplicates('phone')\n",
    "phones.shape[0]"
   ]
  },
  {
   "cell_type": "code",
   "execution_count": 5,
   "metadata": {},
   "outputs": [],
   "source": [
    "phones.to_csv('phones.csv', index=False)"
   ]
  }
 ]
}